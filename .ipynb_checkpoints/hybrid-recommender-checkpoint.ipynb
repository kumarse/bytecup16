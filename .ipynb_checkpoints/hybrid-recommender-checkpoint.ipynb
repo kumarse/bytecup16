{
 "cells": [
  {
   "cell_type": "code",
   "execution_count": 2,
   "metadata": {
    "collapsed": false
   },
   "outputs": [],
   "source": [
    "%matplotlib inline\n",
    "import pandas as pd\n",
    "import matplotlib.pyplot as plt\n",
    "from sklearn import linear_model"
   ]
  },
  {
   "cell_type": "code",
   "execution_count": 24,
   "metadata": {
    "collapsed": false
   },
   "outputs": [],
   "source": [
    "cf_results = pd.read_csv(\"CF-testresults.csv\")\n",
    "cb_results = pd.read_csv(\"CB-testresults.csv\")\n",
    "svd_results = pd.read_csv(\"svd-testresults.csv\")\n",
    "hybrid_results = pd.read_csv(\"svd-testresults.csv\")"
   ]
  },
  {
   "cell_type": "code",
   "execution_count": 20,
   "metadata": {
    "collapsed": false
   },
   "outputs": [],
   "source": [
    "hybrid_results = hybrid_results.drop('label',1)"
   ]
  },
  {
   "cell_type": "code",
   "execution_count": 28,
   "metadata": {
    "collapsed": false
   },
   "outputs": [],
   "source": [
    "hybrid_results[\"label_0.1\"] = \"\"\n",
    "hybrid_results[\"label_0.2\"] = \"\"\n",
    "hybrid_results[\"label_0.3\"] = \"\"\n",
    "hybrid_results[\"label_0.4\"] = \"\"\n",
    "hybrid_results[\"label_0.5\"] = \"\"\n",
    "hybrid_results[\"label_0.6\"] = \"\"\n",
    "hybrid_results[\"label_0.7\"] = \"\"\n",
    "hybrid_results[\"label_0.8\"] = \"\"\n",
    "hybrid_results[\"label_0.9\"] = \"\""
   ]
  },
  {
   "cell_type": "code",
   "execution_count": 22,
   "metadata": {
    "collapsed": true
   },
   "outputs": [],
   "source": [
    "alpha=[0.1,0.2,0.3,0.4,0.5,0.6,0.7,0.8,0.9]"
   ]
  },
  {
   "cell_type": "code",
   "execution_count": 25,
   "metadata": {
    "collapsed": false
   },
   "outputs": [],
   "source": [
    "svd_predictions = svd_results['label']\n",
    "cb_predictions = cb_results['label']\n",
    "cf_predictions = cf_results['label']"
   ]
  },
  {
   "cell_type": "code",
   "execution_count": 29,
   "metadata": {
    "collapsed": false
   },
   "outputs": [],
   "source": [
    "for index, i in enumerate(alpha):\n",
    "    n_validation_users = len(hybrid_results.index)\n",
    "    for j in range(n_validation_users):\n",
    "        qid_val = hybrid_results.iloc[j]['qid']\n",
    "        uid_val = hybrid_results.iloc[j]['uid']\n",
    "        label = 'label_0.' + str(index+1)\n",
    "        hybrid_results.iloc[j, hybrid_results.columns.get_loc(label)] = (i * cf_predictions[j]) + ((1-i)*cb_predictions[j])"
   ]
  },
  {
   "cell_type": "code",
   "execution_count": 30,
   "metadata": {
    "collapsed": true
   },
   "outputs": [],
   "source": [
    "from sklearn.metrics import mean_squared_error\n",
    "from math import sqrt\n",
    "def rmse(prediction, ground_truth):\n",
    "    return sqrt(mean_squared_error(prediction, ground_truth))"
   ]
  },
  {
   "cell_type": "code",
   "execution_count": 31,
   "metadata": {
    "collapsed": false
   },
   "outputs": [],
   "source": [
    "mae = []\n",
    "mae.append(rmse(hybrid_results['label_0.1'], hybrid_results.answered))\n",
    "mae.append(rmse(hybrid_results['label_0.2'], hybrid_results.answered))\n",
    "mae.append(rmse(hybrid_results['label_0.3'], hybrid_results.answered))\n",
    "mae.append(rmse(hybrid_results['label_0.4'], hybrid_results.answered))\n",
    "mae.append(rmse(hybrid_results['label_0.5'], hybrid_results.answered))\n",
    "mae.append(rmse(hybrid_results['label_0.6'], hybrid_results.answered))\n",
    "mae.append(rmse(hybrid_results['label_0.7'], hybrid_results.answered))\n",
    "mae.append(rmse(hybrid_results['label_0.8'], hybrid_results.answered))\n",
    "mae.append(rmse(hybrid_results['label_0.9'], hybrid_results.answered))"
   ]
  },
  {
   "cell_type": "code",
   "execution_count": 34,
   "metadata": {
    "collapsed": false
   },
   "outputs": [
    {
     "data": {
      "image/png": "[encoded data removed]",
      "text/plain": [
       "<matplotlib.figure.Figure at 0x11be72550>"
      ]
     },
     "metadata": {},
     "output_type": "display_data"
    }
   ],
   "source": [
    "plt.plot(alpha, mae)\n",
    "plt.show()"
   ]
  },
  {
   "cell_type": "code",
   "execution_count": 35,
   "metadata": {
    "collapsed": false
   },
   "outputs": [],
   "source": [
    "hybrid_results.to_csv(\"hybrid_results_cf_lr.csv\")"
   ]
  },
  {
   "cell_type": "code",
   "execution_count": 12,
   "metadata": {
    "collapsed": false
   },
   "outputs": [],
   "source": [
    "cf_results_val = pd.read_csv(\"./Results/user-based_results.csv\")\n",
    "cb_results_val = pd.read_csv(\"./attempt1.csv\")\n",
    "svd_results_val = pd.read_csv(\"./Results/svd-based_results.csv\")"
   ]
  },
  {
   "cell_type": "code",
   "execution_count": 13,
   "metadata": {
    "collapsed": false
   },
   "outputs": [],
   "source": [
    "VAL   = './bytecup2016data/validate_nolabel.txt'\n",
    "valdata = pd.read_csv(VAL)\n",
    "valdata['label'] = \"\""
   ]
  },
  {
   "cell_type": "code",
   "execution_count": 14,
   "metadata": {
    "collapsed": false
   },
   "outputs": [],
   "source": [
    "cf_predictions = cf_results_val['label']\n",
    "cb_predictions = cb_results_val['label']\n",
    "svd_predictions = svd_results_val['label']"
   ]
  },
  {
   "cell_type": "code",
   "execution_count": 15,
   "metadata": {
    "collapsed": false
   },
   "outputs": [],
   "source": [
    "n_validation_users = len(valdata.index)\n",
    "for j in range(n_validation_users):\n",
    "    valdata.iloc[j, valdata.columns.get_loc('label')] = (0.4 * svd_predictions[j]) + (0.6*cb_predictions[j])"
   ]
  },
  {
   "cell_type": "code",
   "execution_count": 16,
   "metadata": {
    "collapsed": true
   },
   "outputs": [],
   "source": [
    "valdata.to_csv('hybrid_svd_logisticregression.csv')"
   ]
  }
 ],
 "metadata": {
  "anaconda-cloud": {},
  "kernelspec": {
   "display_name": "Python [Root]",
   "language": "python",
   "name": "Python [Root]"
  },
  "language_info": {
   "codemirror_mode": {
    "name": "ipython",
    "version": 2
   },
   "file_extension": ".py",
   "mimetype": "text/x-python",
   "name": "python",
   "nbconvert_exporter": "python",
   "pygments_lexer": "ipython2",
   "version": "2.7.12"
  }
 },
 "nbformat": 4,
 "nbformat_minor": 0
}
