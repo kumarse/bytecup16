{
 "cells": [
  {
   "cell_type": "code",
   "execution_count": 1,
   "metadata": {
    "collapsed": true
   },
   "outputs": [],
   "source": [
    "import matplotlib.pyplot as plt\n",
    "import numpy as np\n",
    "import pandas as pd\n",
    "import sklearn as sk\n",
    "%matplotlib inline"
   ]
  },
  {
   "cell_type": "code",
   "execution_count": 2,
   "metadata": {
    "collapsed": false
   },
   "outputs": [],
   "source": [
    "BASE  = './bytecup2016data'\n",
    "IINFO = BASE + '/invited_info_train.txt'\n",
    "QINFO = BASE + '/question_info.txt'\n",
    "UINFO = BASE + '/user_info.txt'\n",
    "VAL   = BASE + '/validate_nolabel.txt'\n",
    "\n",
    "invdata = pd.read_csv(IINFO, delim_whitespace=True, header=None, names=[\"qid\", \"uid\", \"answered\"])\n",
    "qdata   = pd.read_csv(QINFO, delim_whitespace=True, header=None, names=[\"qid\", \"qtag\", \"wseq\", \"cseq\", \"nvotes\", \"nans\", \"ntqans\"])\n",
    "udata   = pd.read_csv(UINFO, delim_whitespace=True, header=None, names=[\"uid\", \"exptag\", \"wseq\", \"cseq\"])\n",
    "valdata = pd.read_csv(VAL)"
   ]
  },
  {
   "cell_type": "code",
   "execution_count": 3,
   "metadata": {
    "collapsed": true
   },
   "outputs": [],
   "source": [
    "from sklearn.feature_extraction.text import CountVectorizer"
   ]
  },
  {
   "cell_type": "code",
   "execution_count": 4,
   "metadata": {
    "collapsed": true
   },
   "outputs": [],
   "source": [
    "# Process the qdata\n",
    "\n",
    "def tokenize(text):\n",
    "    return text.split(\"/\")\n",
    "\n",
    "# Convert the character sequence column into a bag of words kind of vector\n",
    "# Refer: http://scikit-learn.org/stable/modules/feature_extraction.html#text-feature-extraction\n",
    "cseq_vec = CountVectorizer(tokenizer=tokenize)\n",
    "cseq_matrix = cseq_vec.fit_transform(qdata.cseq).toarray()\n",
    "\n",
    "# Do 1-of-K encoding for tags\n",
    "qtags = qdata[\"qtag\"].apply(str)\n",
    "qtag_vec = CountVectorizer(tokenizer=tokenize)\n",
    "qtag_matrix = qtag_vec.fit_transform(qtags).toarray()\n",
    "\n",
    "# Convert the numpy arrays to dataframes\n",
    "cseq_pd = pd.DataFrame(cseq_matrix)\n",
    "qtag_pd = pd.DataFrame(qtag_matrix)\n",
    "\n",
    "# Merge\n",
    "proc_qdata = pd.concat([qdata.qid, cseq_pd, qtag_pd, qdata.nvotes, qdata.nans, qdata.ntqans], axis = 1)"
   ]
  },
  {
   "cell_type": "code",
   "execution_count": 5,
   "metadata": {
    "collapsed": true
   },
   "outputs": [],
   "source": [
    "# Process the udata\n",
    "\n",
    "# Convert the character sequence column into a bag of words kind of vector\n",
    "# Refer: http://scikit-learn.org/stable/modules/feature_extraction.html#text-feature-extraction\n",
    "cseq_matrix = cseq_vec.fit_transform(udata.cseq).toarray()\n",
    "exptag_matrix = qtag_vec.fit_transform(udata.exptag).toarray()\n",
    "\n",
    "# Convert the numpy arrays to dataframes\n",
    "cseq_pd = pd.DataFrame(cseq_matrix)\n",
    "exptag_pd = pd.DataFrame(exptag_matrix)\n",
    "\n",
    "# Merge\n",
    "proc_udata = pd.concat([udata.uid, cseq_pd, exptag_pd], axis = 1)"
   ]
  },
  {
   "cell_type": "code",
   "execution_count": 6,
   "metadata": {
    "collapsed": false
   },
   "outputs": [],
   "source": [
    "# Insert a column in valdata to store the predicted label probabilities\n",
    "valdata.insert(2, \"label\", value = 0.0)"
   ]
  },
  {
   "cell_type": "code",
   "execution_count": 23,
   "metadata": {
    "collapsed": false
   },
   "outputs": [
    {
     "data": {
      "text/plain": [
       "array([[0, 0, 0, ..., 0, 0, 0],\n",
       "       [0, 0, 0, ..., 0, 0, 0],\n",
       "       [0, 0, 0, ..., 0, 0, 0],\n",
       "       ..., \n",
       "       [0, 0, 0, ..., 0, 0, 0],\n",
       "       [0, 0, 0, ..., 0, 0, 0],\n",
       "       [0, 0, 0, ..., 0, 0, 0]])"
      ]
     },
     "execution_count": 23,
     "metadata": {},
     "output_type": "execute_result"
    }
   ],
   "source": [
    "udata_sim = proc_udata.drop([\"uid\"], axis = 1)\n",
    "user_features = udata_sim.values\n",
    "user_features"
   ]
  },
  {
   "cell_type": "code",
   "execution_count": null,
   "metadata": {
    "collapsed": false
   },
   "outputs": [],
   "source": [
    "from sklearn.metrics.pairwise import cosine_similarity\n",
    "from sklearn.metrics.pairwise import linear_kernel\n",
    "from scipy import sparse\n",
    "user_sparse = sparse.csr_matrix(user_features)\n",
    "similarities = cosine_similarity(user_sparse, dense_output=False)\n",
    "n_users = user_features.shape[0]\n",
    "related_users = []\n",
    "for i in range(n_users-1):\n",
    "    cosine_similarities = linear_kernel(similarities[i:i+1], similarities).flatten()\n",
    "    related_users_indices = cosine_similarities.argsort()[:-5:-1]\n",
    "    related_users.append(related_users_indices)\n",
    "related_users"
   ]
  },
  {
   "cell_type": "code",
   "execution_count": 32,
   "metadata": {
    "collapsed": true
   },
   "outputs": [],
   "source": [
    "def prepare_testing_data():\n",
    "    # Merge with processed udata to get the testing data for the user\n",
    "    user_valdata = valdata.merge(proc_udata, on=\"uid\", how=\"inner\").drop([\"wseq\"], axis = 1)\n",
    "    user_ques_valdata = user_valdata.merge(proc_qdata, on=\"qid\", how=\"inner\").drop([\"uid\",\"qid\",\"wseq\"], axis = 1)\n",
    "    test_data = user_ques_valdata.drop([\"label\"], axis = 1)\n",
    "    return test_data"
   ]
  },
  {
   "cell_type": "code",
   "execution_count": 33,
   "metadata": {
    "collapsed": true
   },
   "outputs": [],
   "source": [
    "test_data = prepare_testing_data()"
   ]
  }
 ],
 "metadata": {
  "anaconda-cloud": {},
  "kernelspec": {
   "display_name": "Python [Root]",
   "language": "python",
   "name": "Python [Root]"
  },
  "language_info": {
   "codemirror_mode": {
    "name": "ipython",
    "version": 2
   },
   "file_extension": ".py",
   "mimetype": "text/x-python",
   "name": "python",
   "nbconvert_exporter": "python",
   "pygments_lexer": "ipython2",
   "version": "2.7.12"
  }
 },
 "nbformat": 4,
 "nbformat_minor": 0
}
