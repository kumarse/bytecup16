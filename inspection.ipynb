{
 "cells": [
  {
   "cell_type": "code",
   "execution_count": 1,
   "metadata": {
    "collapsed": true
   },
   "outputs": [],
   "source": [
    "BASE = './bytecup2016data'\n",
    "IINFO = BASE + '/invited_info_train.txt'\n",
    "QINFO = BASE + '/question_info.txt'\n",
    "UINFO = BASE + '/user_info.txt'\n",
    "VAL = BASE + '/validate_nolabel.txt'"
   ]
  },
  {
   "cell_type": "code",
   "execution_count": 2,
   "metadata": {
    "collapsed": true
   },
   "outputs": [],
   "source": [
    "import matplotlib.pyplot as plt\n",
    "import numpy as np\n",
    "import pandas as pd\n",
    "%matplotlib inline"
   ]
  },
  {
   "cell_type": "code",
   "execution_count": 83,
   "metadata": {
    "collapsed": true
   },
   "outputs": [],
   "source": [
    "invdata = pd.read_csv(IINFO, delim_whitespace=True, header=None, names=[\"qid\", \"uid\", \"answered\"])\n",
    "qdata   = pd.read_csv(QINFO, delim_whitespace=True, header=None, names=[\"qid\", \"qtag\", \"wseq\", \"cseq\", \"nvotes\", \"nans\", \"ntqans\"])\n",
    "udata   = pd.read_csv(UINFO, delim_whitespace=True, header=None, names=[\"uid\", \"exptag\", \"wseq\", \"cseq\"])\n",
    "valdata = pd.read_csv(VAL)"
   ]
  },
  {
   "cell_type": "code",
   "execution_count": 67,
   "metadata": {
    "collapsed": true
   },
   "outputs": [],
   "source": [
    "udata = pd.read_csv(UINFO, delim_whitespace=True, header=None, names=[\"uid\", \"exptag\", \"wseq\", \"cseq\"])"
   ]
  },
  {
   "cell_type": "markdown",
   "metadata": {},
   "source": [
    "# Questions"
   ]
  },
  {
   "cell_type": "code",
   "execution_count": 16,
   "metadata": {
    "collapsed": false
   },
   "outputs": [
    {
     "name": "stdout",
     "output_type": "stream",
     "text": [
      "No of questions :  8095\n"
     ]
    }
   ],
   "source": [
    "# Summarizing question info\n",
    "\n",
    "# How many questions are there\n",
    "print \"No of questions : \", qdata.shape[0]"
   ]
  },
  {
   "cell_type": "code",
   "execution_count": 57,
   "metadata": {
    "collapsed": false
   },
   "outputs": [
    {
     "name": "stdout",
     "output_type": "stream",
     "text": [
      "Tags :  [ 0  1  2  3  4  5  6  7  8  9 10 11 12 13 14 15 16 17 18 19]\n",
      "No. of tags:  20\n",
      "\n",
      "\n"
     ]
    },
    {
     "data": {
      "text/plain": [
       "'\\nplt.xticks(range(20), range(20))\\nplt.xlabel(\"Tag ID\")\\nplt.ylabel(\"No. of questions\")\\nplt.title(\"Question - Tag distribution\")\\nplt.bar(range(len(qtag_dist)), qtag_dist) #To plot the tag distribution\\n'"
      ]
     },
     "execution_count": 57,
     "metadata": {},
     "output_type": "execute_result"
    }
   ],
   "source": [
    "# Tag info\n",
    "tags = np.unique(qdata.qtag)\n",
    "print \"Tags : \", tags\n",
    "print \"No. of tags: \", len(tags)\n",
    "print \"\\n\"\n",
    "\n",
    "qtag_dist = qdata.groupby(\"qtag\").count()[\"qid\"]\n",
    "# print qtag_dist #To print the tag distribution \n",
    "\n",
    "'''\n",
    "plt.xticks(range(20), range(20))\n",
    "plt.xlabel(\"Tag ID\")\n",
    "plt.ylabel(\"No. of questions\")\n",
    "plt.title(\"Question - Tag distribution\")\n",
    "plt.bar(range(len(qtag_dist)), qtag_dist) #To plot the tag distribution\n",
    "'''\n"
   ]
  },
  {
   "cell_type": "code",
   "execution_count": 19,
   "metadata": {
    "collapsed": false
   },
   "outputs": [
    {
     "data": {
      "text/plain": [
       "count     20.000000\n",
       "mean     404.750000\n",
       "std      209.029052\n",
       "min      108.000000\n",
       "25%      255.750000\n",
       "50%      384.500000\n",
       "75%      559.500000\n",
       "max      837.000000\n",
       "Name: qid, dtype: float64"
      ]
     },
     "execution_count": 19,
     "metadata": {},
     "output_type": "execute_result"
    }
   ],
   "source": [
    "qtag_dist.describe()"
   ]
  },
  {
   "cell_type": "code",
   "execution_count": 22,
   "metadata": {
    "collapsed": true
   },
   "outputs": [],
   "source": [
    "import collections"
   ]
  },
  {
   "cell_type": "code",
   "execution_count": 47,
   "metadata": {
    "collapsed": false
   },
   "outputs": [
    {
     "name": "stdout",
     "output_type": "stream",
     "text": [
      "No of word IDs:  13232\n"
     ]
    },
    {
     "data": {
      "image/png": "[encoded data removed]",
      "text/plain": [
       "<matplotlib.figure.Figure at 0x7f5da0fdc1d0>"
      ]
     },
     "metadata": {},
     "output_type": "display_data"
    },
    {
     "data": {
      "image/png": "[encoded data removed]",
      "text/plain": [
       "<matplotlib.figure.Figure at 0x7f5da105d150>"
      ]
     },
     "metadata": {},
     "output_type": "display_data"
    }
   ],
   "source": [
    "# Word IDs distribution\n",
    "wid_dist = collections.Counter(qdata.wseq.str.cat(sep=\"/\").split(\"/\"))\n",
    "# print wid_dist \n",
    "\n",
    "# No of unique word_ids\n",
    "print \"No of word IDs: \", len(wid_dist.keys())\n",
    "\n",
    "# Histogram of the counts of word IDs\n",
    "plt.hist(wid_dist.values(), bins = range(1, 11))\n",
    "plt.show()\n",
    "\n",
    "plt.hist(wid_dist.values(), bins=range(11, 600, 50))\n",
    "plt.show()\n",
    "\n"
   ]
  },
  {
   "cell_type": "code",
   "execution_count": 50,
   "metadata": {
    "collapsed": false
   },
   "outputs": [
    {
     "name": "stdout",
     "output_type": "stream",
     "text": [
      "No of character IDs:  2960\n"
     ]
    },
    {
     "data": {
      "image/png": "[encoded data removed]",
      "text/plain": [
       "<matplotlib.figure.Figure at 0x7f5da128e190>"
      ]
     },
     "metadata": {},
     "output_type": "display_data"
    },
    {
     "data": {
      "image/png": "[encoded data removed]",
      "text/plain": [
       "<matplotlib.figure.Figure at 0x7f5da0fdcf10>"
      ]
     },
     "metadata": {},
     "output_type": "display_data"
    }
   ],
   "source": [
    "# Character ID distribution\n",
    "cid_dist = collections.Counter(qdata.cseq.str.cat(sep=\"/\").split(\"/\"))\n",
    "# print cid_dist\n",
    "\n",
    "# No of unique character IDs\n",
    "print \"No of character IDs: \", len(cid_dist.keys())\n",
    "\n",
    "# Histogram of the counts of word IDs\n",
    "plt.hist(cid_dist.values(), bins = range(1, 25))\n",
    "plt.show()\n",
    "\n",
    "plt.hist(cid_dist.values(), bins=range(26, 600, 50))\n",
    "plt.show()"
   ]
  },
  {
   "cell_type": "markdown",
   "metadata": {},
   "source": [
    "# Users"
   ]
  },
  {
   "cell_type": "code",
   "execution_count": 59,
   "metadata": {
    "collapsed": false
   },
   "outputs": [
    {
     "name": "stdout",
     "output_type": "stream",
     "text": [
      "28763\n"
     ]
    }
   ],
   "source": [
    "# No of users\n",
    "print udata.shape[0]"
   ]
  },
  {
   "cell_type": "code",
   "execution_count": 65,
   "metadata": {
    "collapsed": false
   },
   "outputs": [
    {
     "name": "stdout",
     "output_type": "stream",
     "text": [
      "Tags :  ['0' '1' '10' '100' '101' '102' '103' '104' '105' '106' '107' '108' '109'\n",
      " '11' '110' '111' '112' '113' '114' '115' '116' '117' '118' '119' '12'\n",
      " '120' '121' '122' '123' '124' '125' '126' '127' '128' '129' '13' '130'\n",
      " '131' '132' '133' '134' '135' '136' '137' '138' '139' '14' '140' '141'\n",
      " '142' '15' '16' '17' '18' '19' '2' '20' '21' '22' '23' '24' '25' '26' '27'\n",
      " '28' '29' '3' '30' '31' '32' '33' '34' '35' '36' '37' '38' '39' '4' '40'\n",
      " '41' '42' '43' '44' '45' '46' '47' '48' '49' '5' '50' '51' '52' '53' '54'\n",
      " '55' '56' '57' '58' '59' '6' '60' '61' '62' '63' '64' '65' '66' '67' '68'\n",
      " '69' '7' '70' '71' '72' '73' '74' '75' '76' '77' '78' '79' '8' '80' '81'\n",
      " '82' '83' '84' '85' '86' '87' '88' '89' '9' '90' '91' '92' '93' '94' '95'\n",
      " '96' '97' '98' '99']\n",
      "No. of tags:  143\n"
     ]
    }
   ],
   "source": [
    "# Expert tags\n",
    "tags = np.unique(udata.exptag.str.cat(sep=\"/\").split(\"/\"))\n",
    "print \"Tags : \", tags\n",
    "print \"No. of tags: \", len(tags)"
   ]
  },
  {
   "cell_type": "code",
   "execution_count": 68,
   "metadata": {
    "collapsed": false
   },
   "outputs": [
    {
     "name": "stdout",
     "output_type": "stream",
     "text": [
      "No of word IDs:  31100\n"
     ]
    },
    {
     "data": {
      "image/png": "[encoded data removed]",
      "text/plain": [
       "<matplotlib.figure.Figure at 0x7f5da0ae7850>"
      ]
     },
     "metadata": {},
     "output_type": "display_data"
    },
    {
     "data": {
      "image/png": "[encoded data removed]",
      "text/plain": [
       "<matplotlib.figure.Figure at 0x7f5da02380d0>"
      ]
     },
     "metadata": {},
     "output_type": "display_data"
    }
   ],
   "source": [
    "# Word IDs distribution\n",
    "uwid_dist = collections.Counter(udata.wseq.str.cat(sep=\"/\").split(\"/\"))\n",
    "# print wid_dist \n",
    "\n",
    "# No of unique word_ids\n",
    "print \"No of word IDs: \", len(uwid_dist.keys())\n",
    "\n",
    "# Histogram of the counts of word IDs\n",
    "plt.hist(uwid_dist.values(), bins = range(1, 11))\n",
    "plt.show()\n",
    "\n",
    "plt.hist(uwid_dist.values(), bins=range(11, 600, 50))\n",
    "plt.show()"
   ]
  },
  {
   "cell_type": "code",
   "execution_count": 69,
   "metadata": {
    "collapsed": false
   },
   "outputs": [
    {
     "name": "stdout",
     "output_type": "stream",
     "text": [
      "No of character IDs:  3779\n"
     ]
    },
    {
     "data": {
      "image/png": "[encoded data removed]",
      "text/plain": [
       "<matplotlib.figure.Figure at 0x7f5da1015490>"
      ]
     },
     "metadata": {},
     "output_type": "display_data"
    },
    {
     "data": {
      "image/png": "[encoded data removed]",
      "text/plain": [
       "<matplotlib.figure.Figure at 0x7f5da038b4d0>"
      ]
     },
     "metadata": {},
     "output_type": "display_data"
    }
   ],
   "source": [
    "# Character ID distribution\n",
    "ucid_dist = collections.Counter(udata.cseq.str.cat(sep=\"/\").split(\"/\"))\n",
    "# print cid_dist\n",
    "\n",
    "# No of unique character IDs\n",
    "print \"No of character IDs: \", len(ucid_dist.keys())\n",
    "\n",
    "# Histogram of the counts of word IDs\n",
    "plt.hist(ucid_dist.values(), bins = range(1, 25))\n",
    "plt.show()\n",
    "\n",
    "plt.hist(ucid_dist.values(), bins=range(26, 600, 50))\n",
    "plt.show()"
   ]
  },
  {
   "cell_type": "markdown",
   "metadata": {},
   "source": [
    "# Invited Info"
   ]
  },
  {
   "cell_type": "code",
   "execution_count": 84,
   "metadata": {
    "collapsed": false
   },
   "outputs": [
    {
     "name": "stdout",
     "output_type": "stream",
     "text": [
      "245752\n",
      "Num. answered : answered\n",
      "0    218428\n",
      "1     27324\n",
      "Name: qid, dtype: int64\n"
     ]
    }
   ],
   "source": [
    "# No of entries\n",
    "print invdata.shape[0]\n",
    "\n",
    "# Answered/Unanswered\n",
    "print \"Num. answered :\", invdata.groupby(\"answered\").count()[\"qid\"]"
   ]
  },
  {
   "cell_type": "code",
   "execution_count": 82,
   "metadata": {
    "collapsed": false
   },
   "outputs": [],
   "source": [
    "# Lets group by user and see stats\n",
    "# invdata.groupby([\"uid\", \"answered\"]).count()"
   ]
  },
  {
   "cell_type": "code",
   "execution_count": null,
   "metadata": {
    "collapsed": true
   },
   "outputs": [],
   "source": []
  }
 ],
 "metadata": {
  "kernelspec": {
   "display_name": "Python [Root]",
   "language": "python",
   "name": "Python [Root]"
  },
  "language_info": {
   "codemirror_mode": {
    "name": "ipython",
    "version": 2
   },
   "file_extension": ".py",
   "mimetype": "text/x-python",
   "name": "python",
   "nbconvert_exporter": "python",
   "pygments_lexer": "ipython2",
   "version": "2.7.12"
  }
 },
 "nbformat": 4,
 "nbformat_minor": 0
}
