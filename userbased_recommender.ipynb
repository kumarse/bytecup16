{
 "cells": [
  {
   "cell_type": "code",
   "execution_count": 1,
   "metadata": {
    "collapsed": false
   },
   "outputs": [],
   "source": [
    "import numpy as np\n",
    "import pandas as pd\n",
    "import sklearn as sk\n",
    "from sklearn.metrics.pairwise import pairwise_distances\n",
    "from sklearn import cross_validation as cv"
   ]
  },
  {
   "cell_type": "code",
   "execution_count": 2,
   "metadata": {
    "collapsed": false,
    "scrolled": true
   },
   "outputs": [],
   "source": [
    "BASE  = './bytecup2016data'\n",
    "IINFO = BASE + '/invited_info_train.txt'\n",
    "QINFO = BASE + '/question_info.txt'\n",
    "UINFO = BASE + '/user_info.txt'\n",
    "VAL   = BASE + '/validate_nolabel.txt'\n",
    "\n",
    "invdata = pd.read_csv(IINFO, delim_whitespace=True, header=None, names=[\"qid\", \"uid\", \"answered\"])\n",
    "train_invdata, test_invdata = cv.train_test_split(invdata, test_size=0.25)\n",
    "qdata   = pd.read_csv(QINFO, delim_whitespace=True, header=None, names=[\"qid\", \"qtag\", \"wseq\", \"cseq\", \"nvotes\", \"nans\", \"ntqans\"])\n",
    "udata   = pd.read_csv(UINFO, delim_whitespace=True, header=None, names=[\"uid\", \"exptag\", \"wseq\", \"cseq\"])\n",
    "valdata = pd.read_csv(VAL)\n",
    "\n",
    "merged_data = qdata.merge(train_invdata,on=\"qid\", how=\"left\").merge(udata, on=\"uid\", how=\"right\") \n",
    "ratings_mtx_df = merged_data.pivot_table(values='answered',\n",
    "                                             index='uid',\n",
    "                                             columns='qid')\n"
   ]
  },
  {
   "cell_type": "code",
   "execution_count": 3,
   "metadata": {
    "collapsed": false
   },
   "outputs": [],
   "source": [
    "ratings_mtx_df = ratings_mtx_df.reindex(udata.uid)\n",
    "ratings_mtx_df = pd.concat([ratings_mtx_df,pd.DataFrame(columns=qdata.qid)])"
   ]
  },
  {
   "cell_type": "code",
   "execution_count": 4,
   "metadata": {
    "collapsed": false
   },
   "outputs": [],
   "source": [
    "data = ratings_mtx_df.fillna(0)"
   ]
  },
  {
   "cell_type": "code",
   "execution_count": null,
   "metadata": {
    "collapsed": false
   },
   "outputs": [],
   "source": [
    "user_preferences = data.as_matrix()\n",
    "user_similarity = pairwise_distances(user_preferences, metric='cosine')"
   ]
  },
  {
   "cell_type": "code",
   "execution_count": 6,
   "metadata": {
    "collapsed": false
   },
   "outputs": [],
   "source": [
    "def predict(ratings, similarity, type='user'):\n",
    "    if type == 'user':\n",
    "        mean_user_rating = ratings.mean(axis=1)\n",
    "        #You use np.newaxis so that mean_user_rating has same format as ratings\n",
    "        ratings_diff = (ratings - mean_user_rating[:, np.newaxis]) \n",
    "        pred = mean_user_rating[:, np.newaxis] + similarity.dot(ratings_diff) / np.array([np.abs(similarity).sum(axis=1)]).T\n",
    "    elif type == 'item':\n",
    "        pred = ratings.dot(similarity) / np.array([np.abs(similarity).sum(axis=1)])     \n",
    "    return pred"
   ]
  },
  {
   "cell_type": "code",
   "execution_count": 7,
   "metadata": {
    "collapsed": false
   },
   "outputs": [
    {
     "ename": "NameError",
     "evalue": "name 'user_similarity' is not defined",
     "output_type": "error",
     "traceback": [
      "\u001b[0;31m---------------------------------------------------------------------------\u001b[0m",
      "\u001b[0;31mNameError\u001b[0m                                 Traceback (most recent call last)",
      "\u001b[0;32m<ipython-input-7-3d5db6c74a70>\u001b[0m in \u001b[0;36m<module>\u001b[0;34m()\u001b[0m\n\u001b[0;32m----> 1\u001b[0;31m \u001b[0muser_prediction\u001b[0m \u001b[0;34m=\u001b[0m \u001b[0mpredict\u001b[0m\u001b[0;34m(\u001b[0m\u001b[0muser_preferences\u001b[0m\u001b[0;34m,\u001b[0m \u001b[0muser_similarity\u001b[0m\u001b[0;34m,\u001b[0m \u001b[0mtype\u001b[0m\u001b[0;34m=\u001b[0m\u001b[0;34m'user'\u001b[0m\u001b[0;34m)\u001b[0m\u001b[0;34m\u001b[0m\u001b[0m\n\u001b[0m",
      "\u001b[0;31mNameError\u001b[0m: name 'user_similarity' is not defined"
     ]
    }
   ],
   "source": [
    "user_prediction = predict(user_preferences, user_similarity, type='user')"
   ]
  },
  {
   "cell_type": "code",
   "execution_count": 8,
   "metadata": {
    "collapsed": false
   },
   "outputs": [],
   "source": [
    "user_predictions_df = pd.DataFrame(data=user_prediction,index=data.index,columns=data.columns)"
   ]
  },
  {
   "cell_type": "code",
   "execution_count": 14,
   "metadata": {
    "collapsed": false
   },
   "outputs": [],
   "source": [
    "test_invdata=test_invdata.reset_index()"
   ]
  },
  {
   "cell_type": "code",
   "execution_count": 15,
   "metadata": {
    "collapsed": false
   },
   "outputs": [],
   "source": [
    "n_validation_users = len(test_invdata.index)\n",
    "for i in range(n_validation_users):\n",
    "    qid_val = test_invdata.iloc[i]['qid']\n",
    "    uid_val = test_invdata.iloc[i]['uid']\n",
    "    test_invdata.iloc[i, test_invdata.columns.get_loc('label')] = user_predictions_df.loc[uid_val,qid_val]"
   ]
  },
  {
   "cell_type": "code",
   "execution_count": null,
   "metadata": {
    "collapsed": false
   },
   "outputs": [],
   "source": [
    "test_invdata.to_csv('CF-testresults.csv', separator=\",\")"
   ]
  },
  {
   "cell_type": "code",
   "execution_count": 4,
   "metadata": {
    "collapsed": false
   },
   "outputs": [],
   "source": [
    "test_invdata = pd.read_csv('CF-testresults.csv')"
   ]
  },
  {
   "cell_type": "code",
   "execution_count": 8,
   "metadata": {
    "collapsed": true
   },
   "outputs": [],
   "source": [
    "from sklearn.metrics import mean_squared_error\n",
    "from math import sqrt\n",
    "def rmse(prediction, ground_truth):\n",
    "    return sqrt(mean_squared_error(prediction, ground_truth))"
   ]
  },
  {
   "cell_type": "code",
   "execution_count": 9,
   "metadata": {
    "collapsed": false
   },
   "outputs": [
    {
     "data": {
      "text/plain": [
       "0.3336537701419288"
      ]
     },
     "execution_count": 9,
     "metadata": {},
     "output_type": "execute_result"
    }
   ],
   "source": [
    "rmse(test_invdata.label, test_invdata.answered)"
   ]
  },
  {
   "cell_type": "code",
   "execution_count": 18,
   "metadata": {
    "collapsed": true
   },
   "outputs": [],
   "source": [
    "# Using SVD\n",
    "from scipy.sparse.linalg import svds\n",
    "\n",
    "#get SVD components from train matrix. Choose k.\n",
    "u, s, vt = svds(user_preferences, k = 20)\n",
    "s_diag_matrix=np.diag(s)\n",
    "pred = np.dot(np.dot(u, s_diag_matrix), vt)"
   ]
  },
  {
   "cell_type": "code",
   "execution_count": 19,
   "metadata": {
    "collapsed": false
   },
   "outputs": [],
   "source": [
    "svd_predictions_df = pd.DataFrame(data=pred,index=data.index,columns=data.columns)"
   ]
  },
  {
   "cell_type": "code",
   "execution_count": 20,
   "metadata": {
    "collapsed": true
   },
   "outputs": [],
   "source": [
    "test_invdata[\"label\"] = \"\""
   ]
  },
  {
   "cell_type": "code",
   "execution_count": 21,
   "metadata": {
    "collapsed": true
   },
   "outputs": [],
   "source": [
    "n_validation_users = len(test_invdata.index)\n",
    "for i in range(n_validation_users):\n",
    "    qid_val = test_invdata.iloc[i]['qid']\n",
    "    uid_val = test_invdata.iloc[i]['uid']\n",
    "    test_invdata.iloc[i, test_invdata.columns.get_loc('label')] = svd_predictions_df.loc[uid_val,qid_val]"
   ]
  },
  {
   "cell_type": "code",
   "execution_count": 22,
   "metadata": {
    "collapsed": true
   },
   "outputs": [],
   "source": [
    "test_invdata.to_csv('svd-testresults.csv', separator=\",\")"
   ]
  },
  {
   "cell_type": "code",
   "execution_count": 10,
   "metadata": {
    "collapsed": true
   },
   "outputs": [],
   "source": [
    "test_invdata = pd.read_csv('svd-testresults.csv')"
   ]
  },
  {
   "cell_type": "code",
   "execution_count": 11,
   "metadata": {
    "collapsed": false
   },
   "outputs": [
    {
     "data": {
      "text/plain": [
       "0.3178802602173508"
      ]
     },
     "execution_count": 11,
     "metadata": {},
     "output_type": "execute_result"
    }
   ],
   "source": [
    "rmse(test_invdata.label, test_invdata.answered)"
   ]
  },
  {
   "cell_type": "code",
   "execution_count": 17,
   "metadata": {
    "collapsed": true
   },
   "outputs": [],
   "source": [
    "from sklearn.feature_extraction.text import CountVectorizer"
   ]
  },
  {
   "cell_type": "code",
   "execution_count": 20,
   "metadata": {
    "collapsed": false
   },
   "outputs": [],
   "source": [
    "# Process the qdata\n",
    "\n",
    "def tokenize(text):\n",
    "    return text.split(\"/\")\n",
    "\n",
    "# Convert the character sequence column into a bag of words kind of vector\n",
    "# Refer: http://scikit-learn.org/stable/modules/feature_extraction.html#text-feature-extraction\n",
    "cseq_vec = CountVectorizer(tokenizer=tokenize)\n",
    "cseq_matrix = cseq_vec.fit_transform(qdata.cseq).toarray()\n",
    "\n",
    "# Do 1-of-K encoding for tags\n",
    "qtags = qdata[\"qtag\"].apply(str)\n",
    "qtag_vec = CountVectorizer(tokenizer=tokenize)\n",
    "qtag_matrix = qtag_vec.fit_transform(qtags).toarray()\n",
    "\n",
    "# Convert the numpy arrays to dataframes\n",
    "cseq_pd = pd.DataFrame(cseq_matrix)\n",
    "qtag_pd = pd.DataFrame(qtag_matrix)\n",
    "\n",
    "# Merge\n",
    "proc_qdata = pd.concat([qdata.qid, cseq_pd, qtag_pd, qdata.nvotes], axis = 1)"
   ]
  },
  {
   "cell_type": "code",
   "execution_count": 21,
   "metadata": {
    "collapsed": false
   },
   "outputs": [
    {
     "name": "stderr",
     "output_type": "stream",
     "text": [
      "/anaconda/lib/python2.7/site-packages/ipykernel/__main__.py:1: SettingWithCopyWarning: \n",
      "A value is trying to be set on a copy of a slice from a DataFrame.\n",
      "Try using .loc[row_indexer,col_indexer] = value instead\n",
      "\n",
      "See the caveats in the documentation: http://pandas.pydata.org/pandas-docs/stable/indexing.html#indexing-view-versus-copy\n",
      "  if __name__ == '__main__':\n"
     ]
    }
   ],
   "source": [
    "test_invdata[\"label\"] = 0.0"
   ]
  },
  {
   "cell_type": "code",
   "execution_count": 22,
   "metadata": {
    "collapsed": true
   },
   "outputs": [],
   "source": [
    "def prepare_training_data_for_user(uid):\n",
    "    # Get entries for the user from invited data\n",
    "    user_invdata = train_invdata[train_invdata.uid == uid]\n",
    "    # Merge with processed qdata to get the training data for the user\n",
    "    user_data = user_invdata.merge(proc_qdata, on=\"qid\", how=\"inner\").drop([\"qid\", \"uid\", \"cseq\"], axis = 1)\n",
    "    user_train_labels = user_data.answered\n",
    "    user_train_data = user_data.drop([\"answered\"], axis = 1)\n",
    "    return user_train_data, user_train_labels"
   ]
  },
  {
   "cell_type": "code",
   "execution_count": 23,
   "metadata": {
    "collapsed": true
   },
   "outputs": [],
   "source": [
    "def get_val_data_for_user(uid):\n",
    "    user_valdata = test_invdata[test_invdata.uid == uid]\n",
    "    user_valdata = user_valdata.merge(proc_qdata, on=\"qid\", how=\"inner\").drop([\"cseq\", \"label\",], axis = 1)\n",
    "    return user_valdata"
   ]
  },
  {
   "cell_type": "code",
   "execution_count": 24,
   "metadata": {
    "collapsed": true
   },
   "outputs": [],
   "source": [
    "from sklearn import linear_model"
   ]
  },
  {
   "cell_type": "code",
   "execution_count": null,
   "metadata": {
    "collapsed": false
   },
   "outputs": [],
   "source": [
    "%%timeit -n 1\n",
    "for uid in np.unique(test_invdata.uid):\n",
    "    user_unique_labels = np.unique(train_invdata[train_invdata.uid == uid].answered)\n",
    "\n",
    "    if len(user_unique_labels) != 1:\n",
    "        user_train_data, user_train_labels = prepare_training_data_for_user(uid)\n",
    "        print user_train_data\n",
    "        if user_train_data.shape[0] > 0:\n",
    "            regr = linear_model.LogisticRegression()\n",
    "            regr.fit(user_train_data, user_train_labels)\n",
    "    \n",
    "    user_val_data = get_val_data_for_user(uid)\n",
    "    user_val_trimmed_data = user_val_data.drop([\"qid\", \"uid\",\"index\",\"answered\"], axis = 1)\n",
    "    \n",
    "    if len(user_unique_labels) != 1 and user_train_data.shape[0] > 0:\n",
    "        predicted_proba = regr.predict_proba(user_val_trimmed_data)\n",
    "    else:\n",
    "        if len(user_unique_labels) == 0:\n",
    "            user_unique_labels = [0]\n",
    "        predicted_proba = np.array([[0.0, 1.0] if user_unique_labels[0] == 1 else [1.0, 0.0] for i in range(user_val_data.shape[0])])\n",
    "    \n",
    "    test_invdata.ix[test_invdata.uid == uid, 'label'] = predicted_proba[:, 1]"
   ]
  },
  {
   "cell_type": "code",
   "execution_count": null,
   "metadata": {
    "collapsed": true
   },
   "outputs": [],
   "source": [
    "# Write output as CSV\n",
    "test_invdata.to_csv(\"content-based-testresults.csv\")"
   ]
  },
  {
   "cell_type": "code",
   "execution_count": 13,
   "metadata": {
    "collapsed": false
   },
   "outputs": [
    {
     "data": {
      "text/plain": [
       "0.29796394174992574"
      ]
     },
     "execution_count": 13,
     "metadata": {},
     "output_type": "execute_result"
    }
   ],
   "source": [
    "test_invdata = pd.read_csv('CB-testresults.csv')\n",
    "rmse(test_invdata.label, test_invdata.answered)"
   ]
  }
 ],
 "metadata": {
  "anaconda-cloud": {},
  "kernelspec": {
   "display_name": "Python [Root]",
   "language": "python",
   "name": "Python [Root]"
  },
  "language_info": {
   "codemirror_mode": {
    "name": "ipython",
    "version": 2
   },
   "file_extension": ".py",
   "mimetype": "text/x-python",
   "name": "python",
   "nbconvert_exporter": "python",
   "pygments_lexer": "ipython2",
   "version": "2.7.12"
  }
 },
 "nbformat": 4,
 "nbformat_minor": 0
}
