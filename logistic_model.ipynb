{
 "cells": [
  {
   "cell_type": "code",
   "execution_count": 11,
   "metadata": {
    "collapsed": true
   },
   "outputs": [],
   "source": [
    "import matplotlib.pyplot as plt\n",
    "import numpy as np\n",
    "import pandas as pd\n",
    "import sklearn as sk\n",
    "%matplotlib inline"
   ]
  },
  {
   "cell_type": "code",
   "execution_count": 12,
   "metadata": {
    "collapsed": true
   },
   "outputs": [],
   "source": [
    "BASE  = './bytecup2016data'\n",
    "IINFO = BASE + '/invited_info_train.txt'\n",
    "QINFO = BASE + '/question_info.txt'\n",
    "UINFO = BASE + '/user_info.txt'\n",
    "VAL   = BASE + '/validate_nolabel.txt'\n",
    "\n",
    "invdata = pd.read_csv(IINFO, delim_whitespace=True, header=None, names=[\"qid\", \"uid\", \"answered\"])\n",
    "qdata   = pd.read_csv(QINFO, delim_whitespace=True, header=None, names=[\"qid\", \"qtag\", \"wseq\", \"cseq\", \"nvotes\", \"nans\", \"ntqans\"])\n",
    "udata   = pd.read_csv(UINFO, delim_whitespace=True, header=None, names=[\"uid\", \"exptag\", \"wseq\", \"cseq\"])\n",
    "valdata = pd.read_csv(VAL)"
   ]
  },
  {
   "cell_type": "code",
   "execution_count": 13,
   "metadata": {
    "collapsed": true
   },
   "outputs": [],
   "source": [
    "from sklearn.feature_extraction.text import CountVectorizer"
   ]
  },
  {
   "cell_type": "code",
   "execution_count": 14,
   "metadata": {
    "collapsed": true
   },
   "outputs": [],
   "source": [
    "# Process the qdata\n",
    "\n",
    "def tokenize(text):\n",
    "    return text.split(\"/\")\n",
    "\n",
    "# Convert the character sequence column into a bag of words kind of vector\n",
    "# Refer: http://scikit-learn.org/stable/modules/feature_extraction.html#text-feature-extraction\n",
    "cseq_vec = CountVectorizer(tokenizer=tokenize)\n",
    "cseq_matrix = cseq_vec.fit_transform(qdata.cseq).toarray()\n",
    "\n",
    "# Do 1-of-K encoding for tags\n",
    "qtags = qdata[\"qtag\"].apply(str)\n",
    "qtag_vec = CountVectorizer(tokenizer=tokenize)\n",
    "qtag_matrix = qtag_vec.fit_transform(qtags).toarray()\n",
    "\n",
    "# Convert the numpy arrays to dataframes\n",
    "cseq_pd = pd.DataFrame(cseq_matrix)\n",
    "qtag_pd = pd.DataFrame(qtag_matrix)\n",
    "\n",
    "# Merge\n",
    "proc_qdata = pd.concat([qdata.qid, cseq_pd, qtag_pd, qdata.nvotes, qdata.nans, qdata.ntqans], axis = 1)"
   ]
  },
  {
   "cell_type": "code",
   "execution_count": 15,
   "metadata": {
    "collapsed": true
   },
   "outputs": [],
   "source": [
    "# Insert a column in valdata to store the predicted label probabilities\n",
    "valdata.insert(2, \"label\", value = 0.0)"
   ]
  },
  {
   "cell_type": "code",
   "execution_count": 16,
   "metadata": {
    "collapsed": false
   },
   "outputs": [],
   "source": [
    "def prepare_training_data_for_user(uid):\n",
    "    # Get entries for the user from invited data\n",
    "    user_invdata = invdata[invdata.uid == uid]\n",
    "    # Merge with processed qdata to get the training data for the user\n",
    "    user_data = user_invdata.merge(proc_qdata, on=\"qid\", how=\"inner\").drop([\"qid\", \"uid\", \"wseq\"], axis = 1)\n",
    "    user_train_labels = user_data.answered\n",
    "    user_train_data = user_data.drop([\"answered\"], axis = 1)\n",
    "    return user_train_data, user_train_labels"
   ]
  },
  {
   "cell_type": "code",
   "execution_count": 17,
   "metadata": {
    "collapsed": true
   },
   "outputs": [],
   "source": [
    "def get_val_data_for_user(uid):\n",
    "    user_valdata = valdata[valdata.uid == uid]\n",
    "    user_valdata = user_valdata.merge(proc_qdata, on=\"qid\", how=\"inner\").drop([\"wseq\", \"label\"], axis = 1)\n",
    "    return user_valdata"
   ]
  },
  {
   "cell_type": "code",
   "execution_count": 18,
   "metadata": {
    "collapsed": true
   },
   "outputs": [],
   "source": [
    "from sklearn import linear_model"
   ]
  },
  {
   "cell_type": "code",
   "execution_count": null,
   "metadata": {
    "collapsed": false
   },
   "outputs": [],
   "source": [
    "%%timeit -n 1\n",
    "for uid in np.unique(valdata.uid):\n",
    "    user_unique_labels = np.unique(invdata[invdata.uid == uid].answered)\n",
    "\n",
    "    if len(user_unique_labels) != 1:\n",
    "        user_train_data, user_train_labels = prepare_training_data_for_user(uid)\n",
    "        if user_train_data.shape[0] > 0:\n",
    "            regr = linear_model.LogisticRegression()\n",
    "            regr.fit(user_train_data, user_train_labels)\n",
    "    \n",
    "    user_val_data = get_val_data_for_user(uid)\n",
    "    user_val_trimmed_data = user_val_data.drop([\"qid\", \"uid\"], axis = 1)\n",
    "    \n",
    "    if len(user_unique_labels) != 1 and user_train_data.shape[0] > 0:\n",
    "        predicted_proba = regr.predict_proba(user_val_trimmed_data)\n",
    "    else:\n",
    "        if len(user_unique_labels) == 0:\n",
    "            user_unique_labels = [0]\n",
    "        predicted_proba = np.array([[0.0, 1.0] if user_unique_labels[0] == 1 else [1.0, 0.0] for i in range(user_val_data.shape[0])])\n",
    "    \n",
    "    valdata.ix[valdata.uid == uid, 'label'] = predicted_proba[:, 1]\n",
    "    \n",
    "    \n",
    "    "
   ]
  },
  {
   "cell_type": "code",
   "execution_count": 10,
   "metadata": {
    "collapsed": false
   },
   "outputs": [],
   "source": [
    "# Write output as CSV\n",
    "valdata.to_csv(\"attempt1.csv\")"
   ]
  },
  {
   "cell_type": "code",
   "execution_count": null,
   "metadata": {
    "collapsed": true
   },
   "outputs": [],
   "source": []
  },
  {
   "cell_type": "code",
   "execution_count": null,
   "metadata": {
    "collapsed": true
   },
   "outputs": [],
   "source": []
  },
  {
   "cell_type": "code",
   "execution_count": null,
   "metadata": {
    "collapsed": true
   },
   "outputs": [],
   "source": []
  },
  {
   "cell_type": "code",
   "execution_count": null,
   "metadata": {
    "collapsed": true
   },
   "outputs": [],
   "source": []
  }
 ],
 "metadata": {
  "kernelspec": {
   "display_name": "Python [Root]",
   "language": "python",
   "name": "Python [Root]"
  },
  "language_info": {
   "codemirror_mode": {
    "name": "ipython",
    "version": 2
   },
   "file_extension": ".py",
   "mimetype": "text/x-python",
   "name": "python",
   "nbconvert_exporter": "python",
   "pygments_lexer": "ipython2",
   "version": "2.7.12"
  }
 },
 "nbformat": 4,
 "nbformat_minor": 0
}
