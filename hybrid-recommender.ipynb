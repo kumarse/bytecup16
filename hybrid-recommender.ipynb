{
 "cells": [
  {
   "cell_type": "code",
   "execution_count": 21,
   "metadata": {
    "collapsed": false
   },
   "outputs": [],
   "source": [
    "%matplotlib inline\n",
    "import pandas as pd\n",
    "import matplotlib.pyplot as plt\n",
    "from sklearn import linear_model"
   ]
  },
  {
   "cell_type": "code",
   "execution_count": 11,
   "metadata": {
    "collapsed": false
   },
   "outputs": [],
   "source": [
    "svd_results = pd.read_csv(\"svd-testresults.csv\")\n",
    "cb_results = pd.read_csv(\"CB-testresults.csv\")\n",
    "hybrid_results = pd.read_csv(\"svd-testresults.csv\")"
   ]
  },
  {
   "cell_type": "code",
   "execution_count": 12,
   "metadata": {
    "collapsed": false
   },
   "outputs": [],
   "source": [
    "hybrid_results = hybrid_results.drop('label',1)"
   ]
  },
  {
   "cell_type": "code",
   "execution_count": 13,
   "metadata": {
    "collapsed": true
   },
   "outputs": [],
   "source": [
    "hybrid_results[\"label_0.1\"] = \"\"\n",
    "hybrid_results[\"label_0.2\"] = \"\"\n",
    "hybrid_results[\"label_0.3\"] = \"\"\n",
    "hybrid_results[\"label_0.4\"] = \"\"\n",
    "hybrid_results[\"label_0.5\"] = \"\"\n",
    "hybrid_results[\"label_0.6\"] = \"\"\n",
    "hybrid_results[\"label_0.7\"] = \"\"\n",
    "hybrid_results[\"label_0.8\"] = \"\"\n",
    "hybrid_results[\"label_0.9\"] = \"\""
   ]
  },
  {
   "cell_type": "code",
   "execution_count": 14,
   "metadata": {
    "collapsed": true
   },
   "outputs": [],
   "source": [
    "alpha=[0.1,0.2,0.3,0.4,0.5,0.6,0.7,0.8,0.9]"
   ]
  },
  {
   "cell_type": "code",
   "execution_count": 15,
   "metadata": {
    "collapsed": false
   },
   "outputs": [],
   "source": [
    "svd_predictions = svd_results['label']\n",
    "cb_predictions = cb_results['label']"
   ]
  },
  {
   "cell_type": "code",
   "execution_count": 17,
   "metadata": {
    "collapsed": false
   },
   "outputs": [],
   "source": [
    "for index, i in enumerate(alpha):\n",
    "    n_validation_users = len(hybrid_results.index)\n",
    "    for j in range(n_validation_users):\n",
    "        qid_val = hybrid_results.iloc[j]['qid']\n",
    "        uid_val = hybrid_results.iloc[j]['uid']\n",
    "        label = 'label_0.' + str(index+1)\n",
    "        hybrid_results.iloc[j, hybrid_results.columns.get_loc(label)] = (i * svd_predictions[j]) + ((1-i)*cb_predictions[j])"
   ]
  },
  {
   "cell_type": "code",
   "execution_count": 18,
   "metadata": {
    "collapsed": true
   },
   "outputs": [],
   "source": [
    "hybrid_results.to_csv(\"hybrid_results_svd_lr.csv\")"
   ]
  },
  {
   "cell_type": "code",
   "execution_count": 19,
   "metadata": {
    "collapsed": false
   },
   "outputs": [],
   "source": [
    "n_validation_users = len(hybrid_results.index)\n",
    "actual = hybrid_results['answered']\n",
    "alpha_1 = hybrid_results[\"label_0.1\"]\n",
    "alpha_2 = hybrid_results[\"label_0.2\"]\n",
    "alpha_3 = hybrid_results[\"label_0.3\"]\n",
    "alpha_4 = hybrid_results[\"label_0.4\"]\n",
    "alpha_5 = hybrid_results[\"label_0.5\"]\n",
    "alpha_6 = hybrid_results[\"label_0.6\"]\n",
    "alpha_7 = hybrid_results[\"label_0.7\"]\n",
    "alpha_8 = hybrid_results[\"label_0.8\"]\n",
    "alpha_9 = hybrid_results[\"label_0.1\"]\n",
    "\n",
    "mae = []\n",
    "mae.append(sum(abs(actual-alpha_1))/n_validation_users)\n",
    "mae.append(sum(abs(actual-alpha_2))/n_validation_users)\n",
    "mae.append(sum(abs(actual-alpha_3))/n_validation_users)\n",
    "mae.append(sum(abs(actual-alpha_4))/n_validation_users)\n",
    "mae.append(sum(abs(actual-alpha_5))/n_validation_users)\n",
    "mae.append(sum(abs(actual-alpha_6))/n_validation_users)\n",
    "mae.append(sum(abs(actual-alpha_7))/n_validation_users)\n",
    "mae.append(sum(abs(actual-alpha_8))/n_validation_users)\n",
    "mae.append(sum(abs(actual-alpha_9))/n_validation_users)"
   ]
  },
  {
   "cell_type": "code",
   "execution_count": 20,
   "metadata": {
    "collapsed": false
   },
   "outputs": [
    {
     "data": {
      "image/png": "[encoded data removed]",
      "text/plain": [
       "<matplotlib.figure.Figure at 0x115c19990>"
      ]
     },
     "metadata": {},
     "output_type": "display_data"
    }
   ],
   "source": [
    "plt.plot(alpha, mae)\n",
    "plt.show()"
   ]
  },
  {
   "cell_type": "code",
   "execution_count": 36,
   "metadata": {
    "collapsed": false
   },
   "outputs": [],
   "source": [
    "cf_results_val = pd.read_csv(\"./Results/user-based_results.csv\")\n",
    "cb_results_val = pd.read_csv(\"./attempt1.csv\")\n",
    "svd_results_val = pd.read_csv(\"./Results/svd-based_results.csv\")"
   ]
  },
  {
   "cell_type": "code",
   "execution_count": 7,
   "metadata": {
    "collapsed": false
   },
   "outputs": [],
   "source": [
    "VAL   = './bytecup2016data/validate_nolabel.txt'\n",
    "valdata = pd.read_csv(VAL)\n",
    "valdata['label'] = \"\""
   ]
  },
  {
   "cell_type": "code",
   "execution_count": 37,
   "metadata": {
    "collapsed": false
   },
   "outputs": [],
   "source": [
    "cf_predictions = cf_results_val['label']\n",
    "cb_predictions = cb_results_val['label']\n",
    "svd_predictions = svd_results_val['label']"
   ]
  },
  {
   "cell_type": "code",
   "execution_count": 9,
   "metadata": {
    "collapsed": false
   },
   "outputs": [],
   "source": [
    "n_validation_users = len(valdata.index)\n",
    "for j in range(n_validation_users):\n",
    "    valdata.iloc[j, valdata.columns.get_loc('label')] = (0.8 * cf_predictions[j]) + (0.2*cb_predictions[j])"
   ]
  },
  {
   "cell_type": "code",
   "execution_count": 10,
   "metadata": {
    "collapsed": true
   },
   "outputs": [],
   "source": [
    "valdata.to_csv('hybrid_results.csv')"
   ]
  },
  {
   "cell_type": "code",
   "execution_count": 25,
   "metadata": {
    "collapsed": true
   },
   "outputs": [],
   "source": [
    "hybrid_results = pd.read_csv(\"svd-testresults.csv\")\n",
    "hybrid_results = hybrid_results.drop('label',1)\n",
    "hybrid_results[\"SVD_Based\"] = svd_results.label\n",
    "hybrid_results[\"Content_Based\"] = cb_results.label"
   ]
  },
  {
   "cell_type": "code",
   "execution_count": 30,
   "metadata": {
    "collapsed": false
   },
   "outputs": [],
   "source": [
    "train_labels = hybrid_results.answered\n",
    "train_data = hybrid_results.drop('answered',1).drop('qid',1).drop('uid',1)"
   ]
  },
  {
   "cell_type": "code",
   "execution_count": 31,
   "metadata": {
    "collapsed": false
   },
   "outputs": [
    {
     "data": {
      "text/plain": [
       "LogisticRegression(C=1.0, class_weight=None, dual=False, fit_intercept=True,\n",
       "          intercept_scaling=1, max_iter=100, multi_class='ovr', n_jobs=1,\n",
       "          penalty='l2', random_state=None, solver='liblinear', tol=0.0001,\n",
       "          verbose=0, warm_start=False)"
      ]
     },
     "execution_count": 31,
     "metadata": {},
     "output_type": "execute_result"
    }
   ],
   "source": [
    "regr = linear_model.LogisticRegression()\n",
    "regr.fit(train_data, train_labels)"
   ]
  },
  {
   "cell_type": "code",
   "execution_count": 46,
   "metadata": {
    "collapsed": false
   },
   "outputs": [],
   "source": [
    "lr_hybrid_results = pd.read_csv(\"./Results/svd-based_results.csv\")\n",
    "lr_hybrid_results = lr_hybrid_results.drop('label',1)\n",
    "lr_hybrid_results[\"SVD_Based\"] = svd_predictions\n",
    "lr_hybrid_results[\"Content_Based\"] = cb_predictions"
   ]
  },
  {
   "cell_type": "code",
   "execution_count": 48,
   "metadata": {
    "collapsed": false
   },
   "outputs": [],
   "source": [
    "test_data = lr_hybrid_results.drop('qid',1).drop('uid',1)"
   ]
  },
  {
   "cell_type": "code",
   "execution_count": 49,
   "metadata": {
    "collapsed": false
   },
   "outputs": [
    {
     "data": {
      "text/html": [
       "<div>\n",
       "<table border=\"1\" class=\"dataframe\">\n",
       "  <thead>\n",
       "    <tr style=\"text-align: right;\">\n",
       "      <th></th>\n",
       "      <th>SVD_Based</th>\n",
       "      <th>Content_Based</th>\n",
       "    </tr>\n",
       "  </thead>\n",
       "  <tbody>\n",
       "    <tr>\n",
       "      <th>0</th>\n",
       "      <td>0.000000e+00</td>\n",
       "      <td>0.000000e+00</td>\n",
       "    </tr>\n",
       "    <tr>\n",
       "      <th>1</th>\n",
       "      <td>0.000000e+00</td>\n",
       "      <td>0.000000e+00</td>\n",
       "    </tr>\n",
       "    <tr>\n",
       "      <th>2</th>\n",
       "      <td>8.171338e-03</td>\n",
       "      <td>1.922377e-01</td>\n",
       "    </tr>\n",
       "    <tr>\n",
       "      <th>3</th>\n",
       "      <td>0.000000e+00</td>\n",
       "      <td>0.000000e+00</td>\n",
       "    </tr>\n",
       "    <tr>\n",
       "      <th>4</th>\n",
       "      <td>5.151802e-01</td>\n",
       "      <td>9.968807e-01</td>\n",
       "    </tr>\n",
       "    <tr>\n",
       "      <th>5</th>\n",
       "      <td>1.509855e-01</td>\n",
       "      <td>1.912099e-01</td>\n",
       "    </tr>\n",
       "    <tr>\n",
       "      <th>6</th>\n",
       "      <td>0.000000e+00</td>\n",
       "      <td>0.000000e+00</td>\n",
       "    </tr>\n",
       "    <tr>\n",
       "      <th>7</th>\n",
       "      <td>0.000000e+00</td>\n",
       "      <td>0.000000e+00</td>\n",
       "    </tr>\n",
       "    <tr>\n",
       "      <th>8</th>\n",
       "      <td>3.840000e-37</td>\n",
       "      <td>1.062647e-168</td>\n",
       "    </tr>\n",
       "    <tr>\n",
       "      <th>9</th>\n",
       "      <td>1.150161e-01</td>\n",
       "      <td>2.736334e-01</td>\n",
       "    </tr>\n",
       "    <tr>\n",
       "      <th>10</th>\n",
       "      <td>-1.420000e-34</td>\n",
       "      <td>5.430691e-03</td>\n",
       "    </tr>\n",
       "    <tr>\n",
       "      <th>11</th>\n",
       "      <td>0.000000e+00</td>\n",
       "      <td>0.000000e+00</td>\n",
       "    </tr>\n",
       "    <tr>\n",
       "      <th>12</th>\n",
       "      <td>1.620000e-05</td>\n",
       "      <td>2.766839e-41</td>\n",
       "    </tr>\n",
       "    <tr>\n",
       "      <th>13</th>\n",
       "      <td>0.000000e+00</td>\n",
       "      <td>0.000000e+00</td>\n",
       "    </tr>\n",
       "    <tr>\n",
       "      <th>14</th>\n",
       "      <td>3.633042e-03</td>\n",
       "      <td>4.509994e-12</td>\n",
       "    </tr>\n",
       "    <tr>\n",
       "      <th>15</th>\n",
       "      <td>5.767174e-01</td>\n",
       "      <td>5.405380e-01</td>\n",
       "    </tr>\n",
       "    <tr>\n",
       "      <th>16</th>\n",
       "      <td>2.553646e-02</td>\n",
       "      <td>5.081413e-02</td>\n",
       "    </tr>\n",
       "    <tr>\n",
       "      <th>17</th>\n",
       "      <td>1.376410e-04</td>\n",
       "      <td>1.853553e-03</td>\n",
       "    </tr>\n",
       "    <tr>\n",
       "      <th>18</th>\n",
       "      <td>2.032710e-04</td>\n",
       "      <td>9.951215e-02</td>\n",
       "    </tr>\n",
       "    <tr>\n",
       "      <th>19</th>\n",
       "      <td>1.103298e-01</td>\n",
       "      <td>8.893010e-03</td>\n",
       "    </tr>\n",
       "    <tr>\n",
       "      <th>20</th>\n",
       "      <td>0.000000e+00</td>\n",
       "      <td>0.000000e+00</td>\n",
       "    </tr>\n",
       "    <tr>\n",
       "      <th>21</th>\n",
       "      <td>6.053918e-02</td>\n",
       "      <td>1.276213e-01</td>\n",
       "    </tr>\n",
       "    <tr>\n",
       "      <th>22</th>\n",
       "      <td>0.000000e+00</td>\n",
       "      <td>0.000000e+00</td>\n",
       "    </tr>\n",
       "    <tr>\n",
       "      <th>23</th>\n",
       "      <td>8.194683e-02</td>\n",
       "      <td>1.071769e-01</td>\n",
       "    </tr>\n",
       "    <tr>\n",
       "      <th>24</th>\n",
       "      <td>1.740000e-06</td>\n",
       "      <td>1.602516e-01</td>\n",
       "    </tr>\n",
       "    <tr>\n",
       "      <th>25</th>\n",
       "      <td>0.000000e+00</td>\n",
       "      <td>0.000000e+00</td>\n",
       "    </tr>\n",
       "    <tr>\n",
       "      <th>26</th>\n",
       "      <td>1.819515e-02</td>\n",
       "      <td>7.613653e-02</td>\n",
       "    </tr>\n",
       "    <tr>\n",
       "      <th>27</th>\n",
       "      <td>2.861687e-02</td>\n",
       "      <td>2.479430e-02</td>\n",
       "    </tr>\n",
       "    <tr>\n",
       "      <th>28</th>\n",
       "      <td>-1.100000e-20</td>\n",
       "      <td>5.668050e-02</td>\n",
       "    </tr>\n",
       "    <tr>\n",
       "      <th>29</th>\n",
       "      <td>0.000000e+00</td>\n",
       "      <td>0.000000e+00</td>\n",
       "    </tr>\n",
       "    <tr>\n",
       "      <th>...</th>\n",
       "      <td>...</td>\n",
       "      <td>...</td>\n",
       "    </tr>\n",
       "    <tr>\n",
       "      <th>30436</th>\n",
       "      <td>0.000000e+00</td>\n",
       "      <td>0.000000e+00</td>\n",
       "    </tr>\n",
       "    <tr>\n",
       "      <th>30437</th>\n",
       "      <td>1.943181e-02</td>\n",
       "      <td>5.268981e-01</td>\n",
       "    </tr>\n",
       "    <tr>\n",
       "      <th>30438</th>\n",
       "      <td>0.000000e+00</td>\n",
       "      <td>0.000000e+00</td>\n",
       "    </tr>\n",
       "    <tr>\n",
       "      <th>30439</th>\n",
       "      <td>7.203963e-02</td>\n",
       "      <td>1.231346e-01</td>\n",
       "    </tr>\n",
       "    <tr>\n",
       "      <th>30440</th>\n",
       "      <td>0.000000e+00</td>\n",
       "      <td>0.000000e+00</td>\n",
       "    </tr>\n",
       "    <tr>\n",
       "      <th>30441</th>\n",
       "      <td>0.000000e+00</td>\n",
       "      <td>0.000000e+00</td>\n",
       "    </tr>\n",
       "    <tr>\n",
       "      <th>30442</th>\n",
       "      <td>0.000000e+00</td>\n",
       "      <td>0.000000e+00</td>\n",
       "    </tr>\n",
       "    <tr>\n",
       "      <th>30443</th>\n",
       "      <td>0.000000e+00</td>\n",
       "      <td>0.000000e+00</td>\n",
       "    </tr>\n",
       "    <tr>\n",
       "      <th>30444</th>\n",
       "      <td>0.000000e+00</td>\n",
       "      <td>0.000000e+00</td>\n",
       "    </tr>\n",
       "    <tr>\n",
       "      <th>30445</th>\n",
       "      <td>0.000000e+00</td>\n",
       "      <td>0.000000e+00</td>\n",
       "    </tr>\n",
       "    <tr>\n",
       "      <th>30446</th>\n",
       "      <td>0.000000e+00</td>\n",
       "      <td>0.000000e+00</td>\n",
       "    </tr>\n",
       "    <tr>\n",
       "      <th>30447</th>\n",
       "      <td>-1.000000e-19</td>\n",
       "      <td>1.324058e-239</td>\n",
       "    </tr>\n",
       "    <tr>\n",
       "      <th>30448</th>\n",
       "      <td>0.000000e+00</td>\n",
       "      <td>0.000000e+00</td>\n",
       "    </tr>\n",
       "    <tr>\n",
       "      <th>30449</th>\n",
       "      <td>1.002057e-02</td>\n",
       "      <td>8.137395e-02</td>\n",
       "    </tr>\n",
       "    <tr>\n",
       "      <th>30450</th>\n",
       "      <td>0.000000e+00</td>\n",
       "      <td>0.000000e+00</td>\n",
       "    </tr>\n",
       "    <tr>\n",
       "      <th>30451</th>\n",
       "      <td>0.000000e+00</td>\n",
       "      <td>0.000000e+00</td>\n",
       "    </tr>\n",
       "    <tr>\n",
       "      <th>30452</th>\n",
       "      <td>0.000000e+00</td>\n",
       "      <td>0.000000e+00</td>\n",
       "    </tr>\n",
       "    <tr>\n",
       "      <th>30453</th>\n",
       "      <td>9.842985e-03</td>\n",
       "      <td>3.167012e-01</td>\n",
       "    </tr>\n",
       "    <tr>\n",
       "      <th>30454</th>\n",
       "      <td>0.000000e+00</td>\n",
       "      <td>0.000000e+00</td>\n",
       "    </tr>\n",
       "    <tr>\n",
       "      <th>30455</th>\n",
       "      <td>0.000000e+00</td>\n",
       "      <td>0.000000e+00</td>\n",
       "    </tr>\n",
       "    <tr>\n",
       "      <th>30456</th>\n",
       "      <td>0.000000e+00</td>\n",
       "      <td>0.000000e+00</td>\n",
       "    </tr>\n",
       "    <tr>\n",
       "      <th>30457</th>\n",
       "      <td>0.000000e+00</td>\n",
       "      <td>0.000000e+00</td>\n",
       "    </tr>\n",
       "    <tr>\n",
       "      <th>30458</th>\n",
       "      <td>7.000126e-03</td>\n",
       "      <td>3.180815e-01</td>\n",
       "    </tr>\n",
       "    <tr>\n",
       "      <th>30459</th>\n",
       "      <td>7.730960e-04</td>\n",
       "      <td>1.437631e-01</td>\n",
       "    </tr>\n",
       "    <tr>\n",
       "      <th>30460</th>\n",
       "      <td>0.000000e+00</td>\n",
       "      <td>0.000000e+00</td>\n",
       "    </tr>\n",
       "    <tr>\n",
       "      <th>30461</th>\n",
       "      <td>4.893910e-04</td>\n",
       "      <td>1.983574e-01</td>\n",
       "    </tr>\n",
       "    <tr>\n",
       "      <th>30462</th>\n",
       "      <td>0.000000e+00</td>\n",
       "      <td>0.000000e+00</td>\n",
       "    </tr>\n",
       "    <tr>\n",
       "      <th>30463</th>\n",
       "      <td>0.000000e+00</td>\n",
       "      <td>0.000000e+00</td>\n",
       "    </tr>\n",
       "    <tr>\n",
       "      <th>30464</th>\n",
       "      <td>0.000000e+00</td>\n",
       "      <td>0.000000e+00</td>\n",
       "    </tr>\n",
       "    <tr>\n",
       "      <th>30465</th>\n",
       "      <td>0.000000e+00</td>\n",
       "      <td>0.000000e+00</td>\n",
       "    </tr>\n",
       "  </tbody>\n",
       "</table>\n",
       "<p>30466 rows × 2 columns</p>\n",
       "</div>"
      ],
      "text/plain": [
       "          SVD_Based  Content_Based\n",
       "0      0.000000e+00   0.000000e+00\n",
       "1      0.000000e+00   0.000000e+00\n",
       "2      8.171338e-03   1.922377e-01\n",
       "3      0.000000e+00   0.000000e+00\n",
       "4      5.151802e-01   9.968807e-01\n",
       "5      1.509855e-01   1.912099e-01\n",
       "6      0.000000e+00   0.000000e+00\n",
       "7      0.000000e+00   0.000000e+00\n",
       "8      3.840000e-37  1.062647e-168\n",
       "9      1.150161e-01   2.736334e-01\n",
       "10    -1.420000e-34   5.430691e-03\n",
       "11     0.000000e+00   0.000000e+00\n",
       "12     1.620000e-05   2.766839e-41\n",
       "13     0.000000e+00   0.000000e+00\n",
       "14     3.633042e-03   4.509994e-12\n",
       "15     5.767174e-01   5.405380e-01\n",
       "16     2.553646e-02   5.081413e-02\n",
       "17     1.376410e-04   1.853553e-03\n",
       "18     2.032710e-04   9.951215e-02\n",
       "19     1.103298e-01   8.893010e-03\n",
       "20     0.000000e+00   0.000000e+00\n",
       "21     6.053918e-02   1.276213e-01\n",
       "22     0.000000e+00   0.000000e+00\n",
       "23     8.194683e-02   1.071769e-01\n",
       "24     1.740000e-06   1.602516e-01\n",
       "25     0.000000e+00   0.000000e+00\n",
       "26     1.819515e-02   7.613653e-02\n",
       "27     2.861687e-02   2.479430e-02\n",
       "28    -1.100000e-20   5.668050e-02\n",
       "29     0.000000e+00   0.000000e+00\n",
       "...             ...            ...\n",
       "30436  0.000000e+00   0.000000e+00\n",
       "30437  1.943181e-02   5.268981e-01\n",
       "30438  0.000000e+00   0.000000e+00\n",
       "30439  7.203963e-02   1.231346e-01\n",
       "30440  0.000000e+00   0.000000e+00\n",
       "30441  0.000000e+00   0.000000e+00\n",
       "30442  0.000000e+00   0.000000e+00\n",
       "30443  0.000000e+00   0.000000e+00\n",
       "30444  0.000000e+00   0.000000e+00\n",
       "30445  0.000000e+00   0.000000e+00\n",
       "30446  0.000000e+00   0.000000e+00\n",
       "30447 -1.000000e-19  1.324058e-239\n",
       "30448  0.000000e+00   0.000000e+00\n",
       "30449  1.002057e-02   8.137395e-02\n",
       "30450  0.000000e+00   0.000000e+00\n",
       "30451  0.000000e+00   0.000000e+00\n",
       "30452  0.000000e+00   0.000000e+00\n",
       "30453  9.842985e-03   3.167012e-01\n",
       "30454  0.000000e+00   0.000000e+00\n",
       "30455  0.000000e+00   0.000000e+00\n",
       "30456  0.000000e+00   0.000000e+00\n",
       "30457  0.000000e+00   0.000000e+00\n",
       "30458  7.000126e-03   3.180815e-01\n",
       "30459  7.730960e-04   1.437631e-01\n",
       "30460  0.000000e+00   0.000000e+00\n",
       "30461  4.893910e-04   1.983574e-01\n",
       "30462  0.000000e+00   0.000000e+00\n",
       "30463  0.000000e+00   0.000000e+00\n",
       "30464  0.000000e+00   0.000000e+00\n",
       "30465  0.000000e+00   0.000000e+00\n",
       "\n",
       "[30466 rows x 2 columns]"
      ]
     },
     "execution_count": 49,
     "metadata": {},
     "output_type": "execute_result"
    }
   ],
   "source": [
    "test_data"
   ]
  },
  {
   "cell_type": "code",
   "execution_count": 50,
   "metadata": {
    "collapsed": false
   },
   "outputs": [],
   "source": [
    "predicted_proba = regr.predict_proba(test_data)"
   ]
  },
  {
   "cell_type": "code",
   "execution_count": 55,
   "metadata": {
    "collapsed": false
   },
   "outputs": [],
   "source": [
    "lr_hybrid_results[\"label\"]=predicted_proba[:, 1]\n",
    "lr_hybrid_results.to_csv(\"lr_hybrid.csv\")"
   ]
  }
 ],
 "metadata": {
  "anaconda-cloud": {},
  "kernelspec": {
   "display_name": "Python [Root]",
   "language": "python",
   "name": "Python [Root]"
  },
  "language_info": {
   "codemirror_mode": {
    "name": "ipython",
    "version": 2
   },
   "file_extension": ".py",
   "mimetype": "text/x-python",
   "name": "python",
   "nbconvert_exporter": "python",
   "pygments_lexer": "ipython2",
   "version": "2.7.12"
  }
 },
 "nbformat": 4,
 "nbformat_minor": 0
}
